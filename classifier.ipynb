{
 "cells": [
  {
   "cell_type": "code",
   "execution_count": 1,
   "metadata": {},
   "outputs": [],
   "source": [
    "import numpy as np\n",
    "from nn.nn import NeuralNetwork\n",
    "import nn.io as io\n",
    "import nn.preprocess as preprocess\n",
    "from sklearn.datasets import load_digits\n",
    "from sklearn.model_selection import train_test_split\n",
    "import matplotlib.pyplot as plt\n"
   ]
  },
  {
   "cell_type": "code",
   "execution_count": 2,
   "metadata": {},
   "outputs": [],
   "source": [
    "# read in the data\n",
    "positive_seqs = io.read_text_file(\"./data/rap1-lieb-positives.txt\")\n",
    "negative_seqs = io.read_fasta_file('./data/yeast-upstream-1k-negative.fa')\n",
    "\n",
    "neg_seqs_trunc = [seq[:len(positive_seqs[0])] for seq in negative_seqs]\n",
    "seqs = positive_seqs + neg_seqs_trunc\n",
    "labels = [1] * len(positive_seqs) + [0] * len(neg_seqs_trunc)\n",
    "\n",
    "# randomly sample with replacement from each group to balance the sample numbers. Oversamples the smaller group\n",
    "sampled_seqs, sampled_labels = preprocess.sample_seqs(seqs, labels)\n",
    "\n",
    "#one hot encode them\n",
    "one_hot_seqs = preprocess.one_hot_encode_seqs(sampled_seqs)\n",
    "\n",
    "#split into train and test\n",
    "X_train, X_val, y_train, y_val = train_test_split(one_hot_seqs, sampled_labels, test_size = .2, random_state = 23)\n",
    "X_train = np.array(X_train)\n",
    "X_val = np.array(X_val)\n",
    "y_train = np.array(y_train)\n",
    "y_val = np.array(y_val)"
   ]
  },
  {
   "cell_type": "code",
   "execution_count": 3,
   "metadata": {},
   "outputs": [
    {
     "name": "stdout",
     "output_type": "stream",
     "text": [
      "(5060, 68)\n",
      "(5060,)\n"
     ]
    }
   ],
   "source": [
    "print(X_train.shape)\n",
    "print(y_train.shape)"
   ]
  },
  {
   "cell_type": "code",
   "execution_count": 5,
   "metadata": {},
   "outputs": [
    {
     "data": {
      "text/plain": [
       "array([[0, 0, 0, ..., 1, 0, 0],\n",
       "       [0, 0, 1, ..., 1, 0, 0],\n",
       "       [0, 0, 1, ..., 0, 1, 0],\n",
       "       ...,\n",
       "       [1, 0, 0, ..., 0, 0, 0],\n",
       "       [0, 0, 0, ..., 1, 0, 0],\n",
       "       [1, 0, 0, ..., 1, 0, 0]])"
      ]
     },
     "execution_count": 5,
     "metadata": {},
     "output_type": "execute_result"
    }
   ],
   "source": [
    "X_train"
   ]
  },
  {
   "cell_type": "code",
   "execution_count": 21,
   "metadata": {},
   "outputs": [],
   "source": [
    "# setup classifier\n",
    "from nn.nn import NeuralNetwork\n",
    "# set up the NN\n",
    "nn_arch = [\n",
    "    {'input_dim': 68, 'output_dim': 30, 'activation': 'relu'},\n",
    "    {'input_dim': 30, 'output_dim': 1, 'activation': 'relu'},\n",
    "]\n",
    "\n",
    "nnetwork = NeuralNetwork(nn_arch= nn_arch, lr = .0001, seed = 23, batch_size = 50, epochs = 500, loss_function = \"_binary_cross_entropy\")"
   ]
  },
  {
   "cell_type": "code",
   "execution_count": 22,
   "metadata": {},
   "outputs": [
    {
     "name": "stdout",
     "output_type": "stream",
     "text": [
      "epoch 0 out of 500\n",
      "epoch 100 out of 500\n",
      "epoch 200 out of 500\n",
      "epoch 300 out of 500\n",
      "epoch 400 out of 500\n"
     ]
    }
   ],
   "source": [
    "#train\n",
    "per_epoch_loss_train, per_epoch_loss_val = nnetwork.fit(np.array(X_train), np.array(y_train), np.array(X_val), np.array(y_val))"
   ]
  },
  {
   "cell_type": "code",
   "execution_count": 23,
   "metadata": {},
   "outputs": [
    {
     "data": {
      "image/png": "[encoded data removed]",
      "text/plain": [
       "<Figure size 640x480 with 1 Axes>"
      ]
     },
     "metadata": {},
     "output_type": "display_data"
    }
   ],
   "source": [
    "#plot\n",
    "plt.plot(per_epoch_loss_train, label = 'Training')\n",
    "plt.plot(per_epoch_loss_val, label = 'Validation')\n",
    "plt.xlabel('Epoch')\n",
    "plt.ylabel('Loss')\n",
    "plt.legend()\n",
    "plt.show()"
   ]
  },
  {
   "cell_type": "code",
   "execution_count": 27,
   "metadata": {},
   "outputs": [
    {
     "data": {
      "text/plain": [
       "1.0405903529148763"
      ]
     },
     "execution_count": 27,
     "metadata": {},
     "output_type": "execute_result"
    }
   ],
   "source": [
    "# validation accuracy of the classifier\n",
    "per_epoch_loss_val[294]"
   ]
  },
  {
   "cell_type": "code",
   "execution_count": null,
   "metadata": {},
   "outputs": [],
   "source": [
    "# explanation of loss function and hyperparameters\n",
    "# I chose binary cross entropy loss because it works well as a loss function for a binary classifier\n",
    "# I chose numbers of parameters to end up with 1 dimension - the classification\n",
    "# I tried with more layers but it had much worse accuracy\n",
    "# I also tried with the sigmoid activation in the last lair and that made the loss go up over time\n",
    "# not sure why there is a huge spike in loss at epoch 295. I would investigate this more if I had more time"
   ]
  }
 ],
 "metadata": {
  "kernelspec": {
   "display_name": "BMI203",
   "language": "python",
   "name": "python3"
  },
  "language_info": {
   "codemirror_mode": {
    "name": "ipython",
    "version": 3
   },
   "file_extension": ".py",
   "mimetype": "text/x-python",
   "name": "python",
   "nbconvert_exporter": "python",
   "pygments_lexer": "ipython3",
   "version": "3.12.2"
  }
 },
 "nbformat": 4,
 "nbformat_minor": 2
}
